{
 "cells": [
  {
   "cell_type": "markdown",
   "metadata": {},
   "source": [
    "# Computer Lab: nonnegative matrix factorization\n",
    "## 2. Database"
   ]
  },
  {
   "cell_type": "code",
   "execution_count": 63,
   "metadata": {},
   "outputs": [],
   "source": [
    "import numpy as np\n",
    "import matplotlib.pyplot as plt\n",
    "import scipy.optimize\n",
    "import scipy.sparse\n",
    "import scipy.sparse.linalg"
   ]
  },
  {
   "cell_type": "markdown",
   "metadata": {},
   "source": [
    "**Question 2.1** The image are size 92x112 pixels. There are 400 images in the database. "
   ]
  },
  {
   "cell_type": "markdown",
   "metadata": {
    "collapsed": true
   },
   "source": [
    "Download the database at https://www.cl.cam.ac.uk/research/dtg/attarchive/facedatabase.html\n",
    "Uncompress the file."
   ]
  },
  {
   "cell_type": "markdown",
   "metadata": {},
   "source": [
    "## 3. Presentation of the model\n",
    "**Question 3.1** In one dimension, we have $n=p=1$. We want to verify the convexity of: $ :(x,y) \\mapsto (1-xy)²$. \n",
    "On a : $f(x+dx, y+dy)= f(x,y) + <\\nabla f(x,y) , (dx, dy)> + \\frac{1}{2}(dx, dy)^\\top H(dx, dy) + o( ||(dx, dy)|| ²)$. \n",
    "A function is convexif and only if the hessian matrix is strictly positive, ie its eigen values are strictly nonnegative.  \n",
    "The Hessian Matrix is : \n",
    "\n",
    "\\begin{pmatrix} y² & -a +2xy \\\\ -a+2xy & x² \\end{pmatrix} \n",
    "\n",
    "The determinant of this matrix is $-a$ so there exists at least one negative eigen value, hence proving the non-convexity of the objective function.\n",
    "\n",
    "**Question 3.2** We compute the gradient of the objective function : $grad(||M - WH ||²) =<M-WH, M-WH>$"
   ]
  },
  {
   "cell_type": "code",
   "execution_count": 64,
   "metadata": {},
   "outputs": [],
   "source": [
    "def gradient(M,H,W) :\n",
    "    return np.vdot(M-np.dot(H,M), M-np.dot(H,M))\n",
    "    "
   ]
  },
  {
   "cell_type": "code",
   "execution_count": 65,
   "metadata": {},
   "outputs": [],
   "source": [
    "def build_matrix_from_faces(folder='/cal/homes/rjuhasz/Desktop/TSIA/SD TSIA 211/TPNMF (1).ipynb/orl_faces', minidata=False):\n",
    "    # load images\n",
    "    # 400 images of size (112, 92)\n",
    "    M = []\n",
    "    if minidata is True:\n",
    "        nb_subjects = 1\n",
    "    else:\n",
    "        nb_subjects = 40\n",
    "    for subject in range(1, nb_subjects + 1):\n",
    "        for image in range(1, 11):\n",
    "            face = plt.imread(folder + '/s' + str(subject)\n",
    "                              + '/' + str(image) + '.pgm')\n",
    "            M.append(face.ravel())\n",
    "\n",
    "    return np.array(M, dtype=float)\n",
    "\n",
    "def vectorize(W, H):\n",
    "    return np.concatenate((W.ravel(), H.ravel()))\n",
    "\n",
    "def unvectorize_M(W_H, M):\n",
    "    # number of elements in W_H is (n+p)*k where M is of size n x m\n",
    "    # W has the nk first elements\n",
    "    # H has the kp last elements\n",
    "    n, p = M.shape\n",
    "    k = W_H.shape[0] // (n + p)\n",
    "    W = W_H[:n * k].reshape((n, k))\n",
    "    H = W_H[n * k:].reshape((k, p))\n",
    "    return W, H\n"
   ]
  },
  {
   "cell_type": "code",
   "execution_count": 66,
   "metadata": {},
   "outputs": [],
   "source": [
    "# Small data to test the algorithm\n",
    "M = build_matrix_from_faces(folder='orl_faces', minidata=True)\n",
    "def unvectorize(W_H): return unvectorize_M(W_H, M)\n",
    "k = 2"
   ]
  },
  {
   "cell_type": "code",
   "execution_count": 67,
   "metadata": {},
   "outputs": [
    {
     "data": {
      "image/png": "[encoded data removed]",
      "text/plain": [
       "<Figure size 432x288 with 1 Axes>"
      ]
     },
     "metadata": {
      "needs_background": "light"
     },
     "output_type": "display_data"
    }
   ],
   "source": [
    "# To see the first face:\n",
    "plt.imshow(M[0].reshape((112, 92)), cmap='gray'); plt.show()"
   ]
  },
  {
   "cell_type": "markdown",
   "metadata": {},
   "source": [
    "## 4. FIND W WHEN H0 IS FIXED\n",
    "**Question 4.1** This choice is advantageous because all coefficients are positive and enable thus the problem to converge more quickly. We could have chosen randomly the initialization but the resolution would have taken more iterations. \n",
    "\n",
    "We choose $\\sqrt(S)*W0$ and $\\sqrt(S)*H_0$ because $M \\approx W_0*S*H_0 \\approx W_0\\sqrt(S) * \\sqrt(S)H_0$"
   ]
  },
  {
   "cell_type": "code",
   "execution_count": 68,
   "metadata": {},
   "outputs": [],
   "source": [
    "n = 10\n",
    "p = 112*92\n",
    "W0, S, H0 = scipy.sparse.linalg.svds(M, k)\n",
    "W0 = np.maximum(0, W0 * np.sqrt(S))\n",
    "H0 = np.maximum(0,(H0.T * np.sqrt(S)).T)\n",
    "\n",
    "L0 = np.linalg.norm(np.dot(H0.T, H0), ord = 'fro')/(n*p)\n"
   ]
  },
  {
   "cell_type": "markdown",
   "metadata": {},
   "source": [
    "**Question 4.2** The objective  function is written as follows : $g(W)=\\frac{1}{2np} ||M-WH_0||²_F  $. We derive this function of W : \n",
    "$\\frac{d}{dW} ||M-WH_0||²_F = \\frac{d}{dW} < M-WH_0, M-WH_0>$  <br>\n",
    "\n",
    "$\\Leftrightarrow \\frac{d}{dW} ||M-WH_0||²_F = < -H_0, M-WH_0 > + <M-WH_0, -H_0 >$    \n",
    "<br>\n",
    "$\\Leftrightarrow \\frac{d}{dW} ||M-WH_0||²_F = 2*(WH_0 - M) H_0^T$\n",
    "<br>\n",
    "The second derivative of the objective function is : \n",
    "$\\frac{d^2}{dW^2} ||M-WH_0||²_F = 2*H_0*H_0^T = 2 ||H_0||² > 0$\n",
    "<br> The second derivative is nonnegative, thus the objective function is convex. "
   ]
  },
  {
   "cell_type": "markdown",
   "metadata": {},
   "source": [
    "**Question 4.3** The functions computing $g(W)$ and $\\nabla g(W)$ are the following : "
   ]
  },
  {
   "cell_type": "code",
   "execution_count": 69,
   "metadata": {},
   "outputs": [
    {
     "data": {
      "text/plain": [
       "1.244037315292823e-05"
      ]
     },
     "execution_count": 69,
     "metadata": {},
     "output_type": "execute_result"
    }
   ],
   "source": [
    "#WWe compute g\n",
    "def val_g(W):\n",
    "    return np.sum((M-np.dot(W,H0))**2)/(2*n*p)\n",
    "\n",
    "\n",
    "#We compute  the gradient of g\n",
    "def grad_g(W):\n",
    "    return np.dot(np.dot(W,H0) - M, np.transpose(H0))/(n*p)\n",
    "\n",
    "#We check the correctness of the gradient \n",
    "def val_test(W):\n",
    "    W = W.reshape((n,k))\n",
    "    return val_g(W).ravel()\n",
    "\n",
    "def grad_test(W):\n",
    "    W = W.reshape((n,k))\n",
    "    return grad_g(W).ravel()\n",
    "\n",
    "\n",
    "scipy.optimize.check_grad(val_test,grad_test,W0.ravel())"
   ]
  },
  {
   "cell_type": "markdown",
   "metadata": {},
   "source": [
    "The value is very small so the computation is proper. \n",
    "<br>\n",
    "<br>\n",
    "<br>\n",
    "**Question 4.4** We want to show that the proximal is the projection onto R+. \n",
    "<br> \n",
    "We have that : $ prox_{\\gamma l \\mathbf{R}^{+}} = argmin_{x \\in \\mathbf{R}} [ l(x) + \\frac{1}{2} ||x-\\gamma||^2]$\n",
    "<br> \n",
    "The function $ x : \\rightarrow l(x) + \\frac{1}{2} ||x-\\gamma||^2$ is minimal if $ l(x) = 0$, thus if $x \\ge 0$.  <br>\n",
    "\n",
    "$x \\ge 0 \\Rightarrow l(x) + \\frac{1}{2} ||x-\\gamma||^2 = \\frac{1}{2} ||\\gamma||^2 \\ge 0$\n",
    "\n",
    "<br> Thus : $ prox_{\\gamma l \\mathbf{R}^{+}} = \\mathbf{R}^{+}$"
   ]
  },
  {
   "cell_type": "markdown",
   "metadata": {},
   "source": [
    "**Question 4.5** We code the function below : "
   ]
  },
  {
   "cell_type": "code",
   "execution_count": 70,
   "metadata": {},
   "outputs": [],
   "source": [
    "def projected_gradient_method(val_g, grad_g, W0, gamma, N) :\n",
    "    for i in range(N) :\n",
    "        W0 = W0 - gamma*grad_g(W0)\n",
    "        W0 = W0 * (W0>=0)\n",
    "    return W0        "
   ]
  },
  {
   "cell_type": "markdown",
   "metadata": {},
   "source": [
    "**Question 4.6** "
   ]
  },
  {
   "cell_type": "code",
   "execution_count": 71,
   "metadata": {},
   "outputs": [
    {
     "name": "stdout",
     "output_type": "stream",
     "text": [
      "438.81211268638407\n"
     ]
    }
   ],
   "source": [
    "print(val_g(W0))\n",
    "#print(val_g(projected_gradient_method(val_g, grad_g, W0, 1/L0, 100)))"
   ]
  },
  {
   "cell_type": "code",
   "execution_count": 72,
   "metadata": {},
   "outputs": [],
   "source": [
    "# Full data\n",
    "#M = build_matrix_from_faces(folder='orl_faces', minidata=False)\n",
    "#def unvectorize(W_H): return unvectorize_M(W_H, M)\n",
    "#k = 38"
   ]
  },
  {
   "cell_type": "markdown",
   "metadata": {},
   "source": [
    "## 5. Algorithmic refinement for the problem with H0 fixed\n",
    "\n",
    "**Question 5.1** We choose $ \\gamma $ adaptively using local information. Knowing that the gradient of g is Lipschitz continuous and that we have a a closed formula for the 1-dimensionnal optimization problem, we implement the exact line search. We implement the line search bellow : "
   ]
  },
  {
   "cell_type": "code",
   "execution_count": 73,
   "metadata": {},
   "outputs": [],
   "source": [
    "def exact_line_search_projected_gradient_method(val_g, grad_g, W0, N):\n",
    "    gamma_k = 0\n",
    "    for i in range(N):\n",
    "        nabla_g = grad_g(W0)\n",
    "        diff = W0 - gamma*nabla_g\n",
    "        f = lambda gamma: np.sum(-1 * nabla_g * grad_g(diff))\n",
    "        gamma_opt = scipy.optimize.newton(f,gamma_k)\n",
    "        W0 = W0 - gamma_opt * nabla_g\n",
    "        W0 = W0 * (W0>=0)\n",
    "    return W0"
   ]
  },
  {
   "cell_type": "code",
   "execution_count": 74,
   "metadata": {},
   "outputs": [
    {
     "name": "stdout",
     "output_type": "stream",
     "text": [
      "(10, 2)\n"
     ]
    }
   ],
   "source": [
    "print(np.shape(W0))\n",
    "#exact_line_search_projected_gradient_method(val_g, grad_g, W0, 100)"
   ]
  },
  {
   "cell_type": "code",
   "execution_count": 75,
   "metadata": {},
   "outputs": [
    {
     "name": "stdout",
     "output_type": "stream",
     "text": [
      "(10, 10304)\n"
     ]
    }
   ],
   "source": [
    "print(np.shape(M))"
   ]
  },
  {
   "cell_type": "markdown",
   "metadata": {},
   "source": [
    "## 6. Resolution of the full problem\n",
    "\n",
    "**Question 6.1** We solve the problem by the projected gradient method. "
   ]
  },
  {
   "cell_type": "code",
   "execution_count": 76,
   "metadata": {},
   "outputs": [],
   "source": [
    "def val_g(W, H = H0):\n",
    "    return np.sum((M-np.dot(W,H))**2)/(2*n*p)\n",
    "\n",
    "def gradW_g(W, H):\n",
    "    return np.dot(np.dot(W,H) - M,H.T)/(n*p) \n",
    "\n",
    "def gradH_g(W,H):\n",
    "    return np.dot(W.T, np.dot(W,H) - M)/(n*p)\n",
    "\n",
    "def line_search_projected_gradient_method_all(val_g, grad_g, W0, H0, N, gamma_prior = 0):\n",
    "    def f(gamma):\n",
    "        s = np.sum(-1 * nablaW * gradW_g(W0 - gamma * nablaW, H0 - gamma * nablaH))\n",
    "        s += np.sum(-1 * nablaH * gradH_g(W0 - gamma * nablaW, H0 - gamma * nablaH))\n",
    "        return s\n",
    "    \n",
    "    for i in range(N):\n",
    "        nablaW = gradW_g(W0, H0)\n",
    "        nablaH = gradH_g(W0, H0)\n",
    "        gamma_opt = scipy.optimize.newton(f,gamma_prior)\n",
    "        W0 = W0 - gamma_opt * nablaW\n",
    "        W0 = W0 * (W0>=0)\n",
    "        H0 = H0 - gamma_opt * nablaH\n",
    "        H0 = H0 * (H0>=0)\n",
    "    return W0, H0\n",
    "\n"
   ]
  },
  {
   "cell_type": "code",
   "execution_count": 77,
   "metadata": {},
   "outputs": [],
   "source": [
    "W1, H1 = line_search_projected_gradient_method_all(val_g, grad_g, W0, H0, 1000)"
   ]
  },
  {
   "cell_type": "code",
   "execution_count": 78,
   "metadata": {},
   "outputs": [
    {
     "data": {
      "text/plain": [
       "358.97282099488194"
      ]
     },
     "execution_count": 78,
     "metadata": {},
     "output_type": "execute_result"
    }
   ],
   "source": [
    "val_g(W1,H1)"
   ]
  },
  {
   "cell_type": "markdown",
   "metadata": {},
   "source": [
    "**Question 6.2** We implement the alternate minimization method : "
   ]
  },
  {
   "cell_type": "code",
   "execution_count": 79,
   "metadata": {},
   "outputs": [],
   "source": [
    "def alternate_method(W, H, N):\n",
    "    def projected_gradient_method_W(W, H, gamma, N):\n",
    "        for i in range(N):\n",
    "            W = W - gamma * gradW_g(W,H)\n",
    "            W = W * (W>=0)\n",
    "        return W\n",
    "\n",
    "    def projected_gradient_method_H(W, H, gamma, N):\n",
    "        for i in range(N):\n",
    "            H = H - gamma * gradH_g(W,H)\n",
    "            H = H * (H>=0)\n",
    "        return H\n",
    "\n",
    "    i = 0\n",
    "    while i<N:\n",
    "        L = np.linalg.norm(np.dot(H.T, H), ord='fro')/(n*p)\n",
    "        W = projected_gradient_method_W(W, H, 1/L, 100)\n",
    "        L = np.linalg.norm(np.dot(W.T, W), ord='fro')/(n*p)\n",
    "        H = projected_gradient_method_H(W, H, 1/L, 100)\n",
    "        i+=1\n",
    "    return W, H"
   ]
  },
  {
   "cell_type": "code",
   "execution_count": null,
   "metadata": {},
   "outputs": [],
   "source": [
    "W1, H1 = alternate_method(W0, H0, 10)"
   ]
  },
  {
   "cell_type": "code",
   "execution_count": null,
   "metadata": {},
   "outputs": [],
   "source": [
    "val_g(W1, H1)"
   ]
  },
  {
   "cell_type": "code",
   "execution_count": null,
   "metadata": {},
   "outputs": [],
   "source": []
  },
  {
   "cell_type": "code",
   "execution_count": null,
   "metadata": {},
   "outputs": [],
   "source": []
  },
  {
   "cell_type": "code",
   "execution_count": null,
   "metadata": {},
   "outputs": [],
   "source": []
  },
  {
   "cell_type": "code",
   "execution_count": null,
   "metadata": {},
   "outputs": [],
   "source": []
  }
 ],
 "metadata": {
  "kernelspec": {
   "display_name": "Python 3",
   "language": "python",
   "name": "python3"
  },
  "language_info": {
   "codemirror_mode": {
    "name": "ipython",
    "version": 3
   },
   "file_extension": ".py",
   "mimetype": "text/x-python",
   "name": "python",
   "nbconvert_exporter": "python",
   "pygments_lexer": "ipython3",
   "version": "3.7.4"
  }
 },
 "nbformat": 4,
 "nbformat_minor": 2
}
