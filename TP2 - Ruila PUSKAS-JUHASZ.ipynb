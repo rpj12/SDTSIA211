{
 "cells": [
  {
   "cell_type": "markdown",
   "metadata": {},
   "source": [
    "# TP 2 : Séparateurs à Vaste Marge\n",
    "## 1. Données"
   ]
  },
  {
   "cell_type": "code",
   "execution_count": 5,
   "metadata": {},
   "outputs": [],
   "source": [
    "import matplotlib.pyplot as plt"
   ]
  },
  {
   "cell_type": "code",
   "execution_count": 6,
   "metadata": {},
   "outputs": [],
   "source": [
    "import numpy as np\n",
    "\n",
    "def load_breastcancer(filename):\n",
    "    \"\"\"\n",
    "    Cette fonction lit le fichier filename, par exemple\n",
    "    filename = 'wdbc_M1_B0.data'\n",
    "    Elle retourne \n",
    "    X : une matrice de caracteristiques\n",
    "    y : un vecteur des classes tel que si y[i] = 1, la tumeur est maligne\n",
    "        et si y[i] = -1, la tumeur est benigne\n",
    "\n",
    "    Pour plus d'infos sur la base de donnees,\n",
    "    https://archive.ics.uci.edu/ml/datasets/Breast+Cancer+Wisconsin+%28Prognostic%29\n",
    "    \"\"\"\n",
    "\n",
    "    data = np.loadtxt(filename, delimiter=',')\n",
    "\n",
    "    # la colonne 0 ne nous interesse pas ici\n",
    "    y = data[:, 1] * 2 - 1\n",
    "    X = data[:, 2:]\n",
    "\n",
    "    # Standardisation de la matrice\n",
    "    X = X - np.mean(X, axis=0)\n",
    "    X = X / np.std(X, axis=0)\n",
    "\n",
    "    return X, y"
   ]
  },
  {
   "cell_type": "code",
   "execution_count": 7,
   "metadata": {},
   "outputs": [
    {
     "data": {
      "text/plain": [
       "(array([[ 1.09706398, -2.07333501,  1.26993369, ...,  2.29607613,\n",
       "          2.75062224,  1.93701461],\n",
       "        [ 1.82982061, -0.35363241,  1.68595471, ...,  1.0870843 ,\n",
       "         -0.24388967,  0.28118999],\n",
       "        [ 1.57988811,  0.45618695,  1.56650313, ...,  1.95500035,\n",
       "          1.152255  ,  0.20139121],\n",
       "        ...,\n",
       "        [ 0.70228425,  2.0455738 ,  0.67267578, ...,  0.41406869,\n",
       "         -1.10454895, -0.31840916],\n",
       "        [ 1.83834103,  2.33645719,  1.98252415, ...,  2.28998549,\n",
       "          1.91908301,  2.21963528],\n",
       "        [-1.80840125,  1.22179204, -1.81438851, ..., -1.74506282,\n",
       "         -0.04813821, -0.75120669]]),\n",
       " array([ 1.,  1.,  1.,  1.,  1.,  1.,  1.,  1.,  1.,  1.,  1.,  1.,  1.,\n",
       "         1.,  1.,  1.,  1.,  1.,  1., -1., -1., -1.,  1.,  1.,  1.,  1.,\n",
       "         1.,  1.,  1.,  1.,  1.,  1.,  1.,  1.,  1.,  1.,  1., -1.,  1.,\n",
       "         1.,  1.,  1.,  1.,  1.,  1.,  1., -1.,  1., -1., -1., -1., -1.,\n",
       "        -1.,  1.,  1., -1.,  1.,  1., -1., -1., -1., -1.,  1., -1.,  1.,\n",
       "         1., -1., -1., -1., -1.,  1., -1.,  1.,  1., -1.,  1., -1.,  1.,\n",
       "         1., -1., -1., -1.,  1.,  1., -1.,  1.,  1.,  1., -1., -1., -1.,\n",
       "         1., -1., -1.,  1.,  1., -1., -1., -1.,  1.,  1., -1., -1., -1.,\n",
       "        -1.,  1., -1., -1.,  1., -1., -1., -1., -1., -1., -1., -1., -1.,\n",
       "         1.,  1.,  1., -1.,  1.,  1., -1., -1., -1.,  1.,  1., -1.,  1.,\n",
       "        -1.,  1.,  1., -1.,  1.,  1., -1., -1.,  1., -1., -1.,  1., -1.,\n",
       "        -1., -1., -1.,  1., -1., -1., -1., -1., -1., -1., -1., -1., -1.,\n",
       "         1., -1., -1., -1., -1.,  1.,  1., -1.,  1., -1., -1.,  1.,  1.,\n",
       "        -1., -1.,  1.,  1., -1., -1., -1., -1.,  1., -1., -1.,  1.,  1.,\n",
       "         1., -1.,  1., -1.,  1., -1., -1., -1.,  1., -1., -1.,  1.,  1.,\n",
       "        -1.,  1.,  1.,  1.,  1., -1.,  1.,  1.,  1., -1.,  1., -1.,  1.,\n",
       "        -1., -1.,  1., -1.,  1.,  1.,  1.,  1., -1., -1.,  1.,  1., -1.,\n",
       "        -1., -1.,  1., -1., -1., -1., -1., -1.,  1.,  1., -1., -1.,  1.,\n",
       "        -1., -1.,  1.,  1., -1.,  1., -1., -1., -1., -1.,  1., -1., -1.,\n",
       "        -1., -1., -1.,  1., -1.,  1.,  1.,  1.,  1.,  1.,  1.,  1.,  1.,\n",
       "         1.,  1.,  1.,  1.,  1.,  1., -1., -1., -1., -1., -1., -1.,  1.,\n",
       "        -1.,  1., -1., -1.,  1., -1., -1.,  1., -1.,  1.,  1., -1., -1.,\n",
       "        -1., -1., -1., -1., -1., -1., -1., -1., -1., -1., -1.,  1., -1.,\n",
       "        -1.,  1., -1.,  1., -1., -1., -1., -1., -1., -1., -1., -1., -1.,\n",
       "        -1., -1., -1., -1., -1.,  1., -1., -1., -1.,  1., -1.,  1., -1.,\n",
       "        -1., -1., -1.,  1.,  1.,  1., -1., -1., -1., -1.,  1., -1.,  1.,\n",
       "        -1.,  1., -1., -1., -1.,  1., -1., -1., -1., -1., -1., -1., -1.,\n",
       "         1.,  1.,  1., -1., -1., -1., -1., -1., -1., -1., -1., -1., -1.,\n",
       "        -1.,  1.,  1., -1.,  1.,  1.,  1., -1.,  1.,  1., -1., -1., -1.,\n",
       "        -1., -1.,  1., -1., -1., -1., -1., -1.,  1., -1., -1., -1.,  1.,\n",
       "        -1., -1.,  1.,  1., -1., -1., -1., -1., -1., -1.,  1., -1., -1.,\n",
       "        -1., -1., -1., -1., -1.,  1., -1., -1., -1., -1., -1.,  1., -1.,\n",
       "        -1.,  1., -1., -1., -1., -1., -1., -1., -1., -1., -1., -1., -1.,\n",
       "        -1.,  1., -1.,  1.,  1., -1.,  1., -1., -1., -1., -1., -1.,  1.,\n",
       "        -1., -1.,  1., -1.,  1., -1., -1.,  1., -1.,  1., -1., -1., -1.,\n",
       "        -1., -1., -1., -1., -1.,  1.,  1., -1., -1., -1., -1., -1., -1.,\n",
       "         1., -1., -1., -1., -1., -1., -1., -1., -1., -1., -1.,  1., -1.,\n",
       "        -1., -1., -1., -1., -1., -1.,  1., -1.,  1., -1., -1.,  1., -1.,\n",
       "        -1., -1., -1., -1.,  1.,  1., -1.,  1., -1.,  1., -1., -1., -1.,\n",
       "        -1., -1.,  1., -1., -1.,  1., -1.,  1., -1.,  1.,  1., -1., -1.,\n",
       "        -1.,  1., -1., -1., -1., -1., -1., -1., -1., -1., -1., -1., -1.,\n",
       "         1., -1.,  1.,  1., -1., -1., -1., -1., -1., -1., -1., -1., -1.,\n",
       "        -1., -1., -1., -1., -1., -1., -1., -1., -1., -1., -1., -1., -1.,\n",
       "        -1., -1., -1.,  1.,  1.,  1.,  1.,  1.,  1., -1.]))"
      ]
     },
     "execution_count": 7,
     "metadata": {},
     "output_type": "execute_result"
    }
   ],
   "source": [
    "load_breastcancer('wdbcM1B0.data')"
   ]
  },
  {
   "cell_type": "markdown",
   "metadata": {},
   "source": [
    "## 2. Méthode du sous-gradient\n",
    "**Question 2.1** On considère le problème <br> $$min_{v\\in \\mathbb{R} ^m , a \\in \\mathbb{R}, \\xi \\in \\mathbb{R}^n} \\frac{1}{2}\\sum_{j=1}^{m}v_j^2+ c\\sum_{i=1}^{n}\\xi_i = W(a,v,\\xi)$$ avec $c=1$ et on veut montrer qu'il est équivalent à : <br>\n",
    "$$min_{v\\in \\mathbb{R} ^m , a \\in \\mathbb{R}} \\frac{1}{2}\\sum_{j=1}^{m}v_j^2+ c\\sum_{i=1}^{n}max(0,1-y_i(x_i^Tv +a))=V(a,v)$$\n",
    "\n",
    "<br>\n",
    "\n",
    "Nous avons : $\\forall i \\in \\{1,...,n\\}, \\xi_i \\ge 1-y_i(x_i^Tv +a)  $ et $\\forall i \\in \\{1,...,n\\}, \\xi_i \\ge 0  $ donc : <br>\n",
    "$$\\forall i \\in \\{1,...,n\\}, \\xi_i \\ge max(0,1-y_i(x_i^Tv +a)).  $$ <br>\n",
    "Donc nous pouvons construire un optimum de (1) à partir d'un optimum de (2). \n",
    "\n",
    "<br>\n",
    "Réciproquement, si $\\xi > max(0,1-y_i(x_i^Tv +a))$ alors les termes dans la deuxième somme ne sont pas minimums, puisqu'on ne peut pas minimiser $\\xi$ plus que par $max(0,1-y_i(x_i^Tv +a))$. Donc un minimum de (2) est un minimum de (1). \n",
    "Si v et a sont fixés et xi est positif, alors le minimum de la somme des xi est supérieur au minimum de la somme des max. \n",
    "<br>\n",
    "CORRECTION : \n",
    "soit $(v^*, a^*)$ minimisant (2). En notant $\\xi = max(0,1-y_i(x_i^Tv +a))$, on a : $V(v^*, a^*) = W(v^*, a^*, \\xi^*)$. D'où : $W(v^*, a^*, \\xi^*) \\le V(v^*, a^*)$\n",
    "\n",
    "Soit $(v^*, a^*,\\xi^*)$ une solution de (1), revient à fixer a et v et prendre $\\xi_i$ le plus petit possible, donc égale à $max(0,1-y_i(x_i^Tv +a))$.\n",
    "Donc on a l'inégalité inverse : $W(v^*, a^*, \\xi^*) \\ge V(v^*, a^*)$ et donc l'égalité. \n",
    "<br> \n",
    "\n",
    "**Question 2.2** On trace la fonction h. "
   ]
  },
  {
   "cell_type": "code",
   "execution_count": 24,
   "metadata": {},
   "outputs": [
    {
     "data": {
      "image/png": "[encoded data removed]",
      "text/plain": [
       "<Figure size 432x288 with 1 Axes>"
      ]
     },
     "metadata": {
      "needs_background": "light"
     },
     "output_type": "display_data"
    }
   ],
   "source": [
    "X = np.linspace(-3,10, 10)\n",
    "\n",
    "Y = [max(0, 1-x) for x in X]\n",
    "plt.plot(X,Y)\n",
    "plt.show()"
   ]
  },
  {
   "cell_type": "markdown",
   "metadata": {},
   "source": [
    "En 1, toutes les droites ayant un coefficient directeur entre -1 et 0 conviennent pour le subgradient. "
   ]
  },
  {
   "cell_type": "markdown",
   "metadata": {},
   "source": [
    "**Question 2.3** On pose : \n",
    "$$f(v,a) = \\frac{1}{2}\\sum_{j=1}^{m}v_j^2+ c\\sum_{i=1}^{n}max(0,1-y_i(x_i^Tv +a))$$\n",
    "<br> En posant : $N(v,a)=\\frac{1}{2}\\sum_{j=1}^{m}v_j^2$, $H=\\sum_{i=1}^{n}max(0,1-y_i(x_i^Tv +a))$ et $M(v,a)=(y_i(x_i^Tv +a))_{i=1}^{n}$, on obtient le résultat. \n",
    "<br> En effet :\n",
    "* M est une application de $\\mathbb{R^m}\\times \\mathbb{R} \\rightarrow \\mathbb{R^n} : v,a \\mapsto (y_i(x_i^Tv +a))_{i=1}^{n}$, elle est linéaire. \n",
    "* N et H sont séparables car leur somme N+H est séparable. \n",
    "<br> D'après la proposition (2.4.2) : \n",
    "$$\\partial f(v,a) = \\partial N(v,a) + \\partial [ cH(M(v,a)) ]$$\n",
    "$$\\Leftrightarrow \\partial f(v,a) = \\partial N(v,a) + cM^T \\partial H(v,a))$$\n",
    "<br> \n",
    "Puisque $N(x) = \\frac{1}{2}|| x ||_2^2$, la fonction N est convexe et différentiable, donc $\\partial N(x) = \\{\\nabla N(x)\\} = \\{||x|| \\}$. \n",
    "<br> D'après la question 2.2, $H(z) = \\sum_{i=1}^{n}max(0,1-z_i) = \\sum_{i=1}^{n}max(0, h(z_i)$ $$\\Leftrightarrow \\partial H(z) = \\sum_{i=1}^{n} \\partial h(z_i)$$\n",
    "$$\\Leftrightarrow \\partial H(z) = \\begin{equation}\n",
    "  \\left\\{\n",
    "      \\begin{aligned}\n",
    "        X_{i=1}^{n} \\{-1\\}\\\\\n",
    "        X_{i=1}^{n} [-1,0]\\\\\n",
    "        X_{i=1}^{n} \\{0\\}\\\\\n",
    "      \\end{aligned}\n",
    "    \\right.\n",
    "\\end{equation}$$"
   ]
  },
  {
   "cell_type": "markdown",
   "metadata": {},
   "source": [
    "**Question 2.4** "
   ]
  }
 ],
 "metadata": {
  "kernelspec": {
   "display_name": "Python 3",
   "language": "python",
   "name": "python3"
  },
  "language_info": {
   "codemirror_mode": {
    "name": "ipython",
    "version": 3
   },
   "file_extension": ".py",
   "mimetype": "text/x-python",
   "name": "python",
   "nbconvert_exporter": "python",
   "pygments_lexer": "ipython3",
   "version": "3.7.4"
  }
 },
 "nbformat": 4,
 "nbformat_minor": 2
}
